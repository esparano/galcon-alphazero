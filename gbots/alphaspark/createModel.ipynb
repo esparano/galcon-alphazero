{
 "cells": [
  {
   "cell_type": "code",
   "execution_count": 1,
   "metadata": {},
   "outputs": [
    {
     "name": "stderr",
     "output_type": "stream",
     "text": [
      "Using TensorFlow backend.\n"
     ]
    },
    {
     "name": "stdout",
     "output_type": "stream",
     "text": [
      "WARNING:tensorflow:From D:\\Software\\Anaconda3\\envs\\GalconZero\\lib\\site-packages\\tensorflow\\python\\framework\\op_def_library.py:263: colocate_with (from tensorflow.python.framework.ops) is deprecated and will be removed in a future version.\n",
      "Instructions for updating:\n",
      "Colocations handled automatically by placer.\n",
      "__________________________________________________________________________________________________\n",
      "Layer (type)                    Output Shape         Param #     Connected to                     \n",
      "==================================================================================================\n",
      "input_1 (InputLayer)            (None, 22, 15)       0                                            \n",
      "__________________________________________________________________________________________________\n",
      "flatten_1 (Flatten)             (None, 330)          0           input_1[0][0]                    \n",
      "__________________________________________________________________________________________________\n",
      "dense_1 (Dense)                 (None, 100)          33100       flatten_1[0][0]                  \n",
      "__________________________________________________________________________________________________\n",
      "dense_2 (Dense)                 (None, 4)            1324        flatten_1[0][0]                  \n",
      "__________________________________________________________________________________________________\n",
      "leaky_re_lu_1 (LeakyReLU)       (None, 100)          0           dense_1[0][0]                    \n",
      "__________________________________________________________________________________________________\n",
      "leaky_re_lu_2 (LeakyReLU)       (None, 4)            0           dense_2[0][0]                    \n",
      "__________________________________________________________________________________________________\n",
      "policy (Dense)                  (None, 925)          93425       leaky_re_lu_1[0][0]              \n",
      "__________________________________________________________________________________________________\n",
      "value (Dense)                   (None, 1)            5           leaky_re_lu_2[0][0]              \n",
      "==================================================================================================\n",
      "Total params: 127,854\n",
      "Trainable params: 127,854\n",
      "Non-trainable params: 0\n",
      "__________________________________________________________________________________________________\n",
      "None\n"
     ]
    }
   ],
   "source": [
    "import numpy as np\n",
    "from keras.models import Model\n",
    "from keras.layers import Input, Dense, Activation, Flatten, LeakyReLU, Dropout\n",
    "from keras.utils import plot_model\n",
    "\n",
    "from nn.nnSetup import NUM_PLANETS, NUM_FEATURES, NUM_OUTPUTS\n",
    "\n",
    "RELU_ALPHA = 0.05\n",
    "DROPOUT = 0.0\n",
    "\n",
    "# INPUTS\n",
    "inputs = Input(shape=(NUM_PLANETS, NUM_FEATURES))\n",
    "\n",
    "# BODY\n",
    "# TODO: insert residual GCNNs layers here\n",
    "# # body = Dropout(DROPOUT)(inputs)\n",
    "# # body = Dense(10)(body)\n",
    "# body = Dense(10)(inputs)\n",
    "# body = LeakyReLU(alpha=RELU_ALPHA)(body)\n",
    "\n",
    "# # body = Dropout(DROPOUT)(body)\n",
    "# body = Dense(8)(body)\n",
    "# body = LeakyReLU(alpha=RELU_ALPHA)(body)\n",
    "\n",
    "body = Flatten()(inputs)\n",
    "# body = Flatten()(body)\n",
    "\n",
    "# POLICY HEAD\n",
    "# policyHead = Dropout(DROPOUT)(body)\n",
    "# policyHead = Dense(100)(policyHead)\n",
    "policyHead = Dense(100)(body)\n",
    "policyHead = LeakyReLU(alpha=RELU_ALPHA)(policyHead)\n",
    "\n",
    "# # policyHead = Dropout(DROPOUT)(policyHead)\n",
    "# policyHead = Dense(100)(policyHead)\n",
    "# policyHead = LeakyReLU(alpha=RELU_ALPHA)(policyHead)\n",
    "\n",
    "# # policyHead = Dropout(DROPOUT)(policyHead)\n",
    "# policyHead = Dense(100)(policyHead)\n",
    "# policyHead = LeakyReLU(alpha=RELU_ALPHA)(policyHead)\n",
    "\n",
    "policyHead = Dense(NUM_OUTPUTS, activation='softmax', name='policy')(policyHead)\n",
    "\n",
    "# VALUE HEAD\n",
    "# valueHead = Dropout(DROPOUT)(body)\n",
    "# valueHead = Dense(20)(valueHead)\n",
    "valueHead = Dense(4)(body)\n",
    "valueHead = LeakyReLU(alpha=RELU_ALPHA)(valueHead)\n",
    "\n",
    "# valueHead = Dropout(DROPOUT)(valueHead)\n",
    "# valueHead = Dense(15)(valueHead)\n",
    "# valueHead = LeakyReLU(alpha=RELU_ALPHA)(valueHead)\n",
    "\n",
    "# # valueHead = Dropout(DROPOUT)(valueHead)\n",
    "# valueHead = Dense(7)(valueHead)\n",
    "# valueHead = LeakyReLU(alpha=RELU_ALPHA)(valueHead)\n",
    "\n",
    "valueHead = Dense(1, activation='sigmoid', name='value')(valueHead)\n",
    "\n",
    "# TODO: multiple percentages\n",
    "model = Model(inputs=inputs, outputs=[policyHead, valueHead], name='GZ_DenseNetwork')\n",
    "\n",
    "\n",
    "print(model.summary())\n",
    "plot_model(model, to_file='model_graph.png')\n",
    "\n",
    "# TODO: are these losses right??\n",
    "# TODO: measure losses to get better loss weights?\n",
    "# TODO: are these metrics right?\n",
    "model.compile(loss=['categorical_crossentropy', 'binary_crossentropy'], loss_weights=[1, 10], optimizer='adam', metrics = [\"accuracy\"])"
   ]
  },
  {
   "cell_type": "code",
   "execution_count": 2,
   "metadata": {},
   "outputs": [
    {
     "ename": "ModuleNotFoundError",
     "evalue": "No module named 'trainingGame'",
     "output_type": "error",
     "traceback": [
      "\u001b[1;31m---------------------------------------------------------------------------\u001b[0m",
      "\u001b[1;31mModuleNotFoundError\u001b[0m                       Traceback (most recent call last)",
      "\u001b[1;32m<ipython-input-2-1fc63347c1b5>\u001b[0m in \u001b[0;36m<module>\u001b[1;34m\u001b[0m\n\u001b[1;32m----> 1\u001b[1;33m \u001b[1;32mfrom\u001b[0m \u001b[0mtrainingGame\u001b[0m \u001b[1;32mimport\u001b[0m \u001b[0mloadTrainingGame\u001b[0m\u001b[1;33m\u001b[0m\u001b[1;33m\u001b[0m\u001b[0m\n\u001b[0m\u001b[0;32m      2\u001b[0m \u001b[1;32mfrom\u001b[0m \u001b[0mtrainingHelper\u001b[0m \u001b[1;32mimport\u001b[0m \u001b[0mTrainingHelper\u001b[0m\u001b[1;33m\u001b[0m\u001b[1;33m\u001b[0m\u001b[0m\n\u001b[0;32m      3\u001b[0m \u001b[1;32mfrom\u001b[0m \u001b[0mmapHelper\u001b[0m \u001b[1;32mimport\u001b[0m \u001b[0mMapHelper\u001b[0m\u001b[1;33m\u001b[0m\u001b[1;33m\u001b[0m\u001b[0m\n\u001b[0;32m      4\u001b[0m \u001b[1;33m\u001b[0m\u001b[0m\n\u001b[0;32m      5\u001b[0m \u001b[0mgame\u001b[0m \u001b[1;33m=\u001b[0m \u001b[0mloadTrainingGame\u001b[0m\u001b[1;33m(\u001b[0m\u001b[1;34m\"testGame.pickle\"\u001b[0m\u001b[1;33m)\u001b[0m\u001b[1;33m\u001b[0m\u001b[1;33m\u001b[0m\u001b[0m\n",
      "\u001b[1;31mModuleNotFoundError\u001b[0m: No module named 'trainingGame'"
     ]
    }
   ],
   "source": [
    "from trainingGame import loadTrainingGame\n",
    "from trainingHelper import TrainingHelper\n",
    "from mapHelper import MapHelper\n",
    "\n",
    "game = loadTrainingGame(\"testGame.pickle\")\n",
    "exampleState = game.states[0]\n",
    "\n",
    "mapHelper = MapHelper(exampleState)\n",
    "exampleState.mapHelper = mapHelper\n",
    "helper = TrainingHelper(game) \n",
    "\n",
    "trainX = helper.getTrainX()\n",
    "\n"
   ]
  },
  {
   "cell_type": "code",
   "execution_count": 3,
   "metadata": {},
   "outputs": [
    {
     "ename": "NameError",
     "evalue": "name 'trainX' is not defined",
     "output_type": "error",
     "traceback": [
      "\u001b[1;31m---------------------------------------------------------------------------\u001b[0m",
      "\u001b[1;31mNameError\u001b[0m                                 Traceback (most recent call last)",
      "\u001b[1;32m<ipython-input-3-edf77d80ecae>\u001b[0m in \u001b[0;36m<module>\u001b[1;34m\u001b[0m\n\u001b[0;32m      1\u001b[0m \u001b[1;32mimport\u001b[0m \u001b[0mnumpy\u001b[0m \u001b[1;32mas\u001b[0m \u001b[0mnp\u001b[0m\u001b[1;33m\u001b[0m\u001b[1;33m\u001b[0m\u001b[0m\n\u001b[0;32m      2\u001b[0m \u001b[1;33m\u001b[0m\u001b[0m\n\u001b[1;32m----> 3\u001b[1;33m \u001b[0mmodel\u001b[0m\u001b[1;33m.\u001b[0m\u001b[0mpredict\u001b[0m\u001b[1;33m(\u001b[0m\u001b[0mnp\u001b[0m\u001b[1;33m.\u001b[0m\u001b[0marray\u001b[0m\u001b[1;33m(\u001b[0m\u001b[1;33m[\u001b[0m\u001b[0mtrainX\u001b[0m\u001b[1;33m[\u001b[0m\u001b[1;36m0\u001b[0m\u001b[1;33m]\u001b[0m\u001b[1;33m]\u001b[0m\u001b[1;33m)\u001b[0m\u001b[1;33m)\u001b[0m\u001b[1;33m\u001b[0m\u001b[1;33m\u001b[0m\u001b[0m\n\u001b[0m",
      "\u001b[1;31mNameError\u001b[0m: name 'trainX' is not defined"
     ]
    }
   ],
   "source": [
    "import numpy as np\n",
    "\n",
    "model.predict(np.array([trainX[0]]))"
   ]
  },
  {
   "cell_type": "code",
   "execution_count": 4,
   "metadata": {},
   "outputs": [],
   "source": [
    "model.save(\"gz_dev.model.new\")"
   ]
  },
  {
   "cell_type": "code",
   "execution_count": null,
   "metadata": {},
   "outputs": [],
   "source": []
  }
 ],
 "metadata": {
  "kernelspec": {
   "display_name": "Python 3",
   "language": "python",
   "name": "python3"
  },
  "language_info": {
   "codemirror_mode": {
    "name": "ipython",
    "version": 3
   },
   "file_extension": ".py",
   "mimetype": "text/x-python",
   "name": "python",
   "nbconvert_exporter": "python",
   "pygments_lexer": "ipython3",
   "version": "3.7.3"
  }
 },
 "nbformat": 4,
 "nbformat_minor": 4
}
