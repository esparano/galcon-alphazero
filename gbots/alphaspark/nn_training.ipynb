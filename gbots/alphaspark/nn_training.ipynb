{
 "cells": [
  {
   "cell_type": "code",
   "execution_count": 1,
   "metadata": {
    "colab": {},
    "colab_type": "code",
    "id": "oRbdLW1L7zvm"
   },
   "outputs": [],
   "source": [
    "import tensorflow as tf\n",
    "from tensorflow import keras\n",
    "from tensorflow.keras.models import Sequential\n",
    "from tensorflow.keras.layers import Dense\n",
    "from tensorflow.keras.initializers import RandomUniform\n",
    "import json\n",
    "import numpy as np"
   ]
  },
  {
   "cell_type": "code",
   "execution_count": 2,
   "metadata": {
    "colab": {},
    "colab_type": "code",
    "id": "9CTwEofm7zvs",
    "outputId": "131c401d-ee18-4136-989d-0430aaf2abb1"
   },
   "outputs": [
    {
     "name": "stdout",
     "output_type": "stream",
     "text": [
      "WARNING:tensorflow:From D:\\Software\\Anaconda3\\envs\\GalconZero\\lib\\site-packages\\tensorflow\\python\\ops\\resource_variable_ops.py:435: colocate_with (from tensorflow.python.framework.ops) is deprecated and will be removed in a future version.\n",
      "Instructions for updating:\n",
      "Colocations handled automatically by placer.\n",
      "_________________________________________________________________\n",
      "Layer (type)                 Output Shape              Param #   \n",
      "=================================================================\n",
      "dense (Dense)                (None, 6)                 54        \n",
      "_________________________________________________________________\n",
      "dense_1 (Dense)              (None, 1)                 7         \n",
      "=================================================================\n",
      "Total params: 61\n",
      "Trainable params: 61\n",
      "Non-trainable params: 0\n",
      "_________________________________________________________________\n"
     ]
    }
   ],
   "source": [
    "model = Sequential()\n",
    "model.add(Dense(6, input_dim=8, kernel_initializer='uniform', activation='relu', use_bias=True, bias_initializer='uniform'))\n",
    "model.add(Dense(1, kernel_initializer='uniform', activation='sigmoid', use_bias=True, bias_initializer='uniform'))\n",
    "model.summary()"
   ]
  },
  {
   "cell_type": "code",
   "execution_count": null,
   "metadata": {
    "colab": {},
    "colab_type": "code",
    "id": "Gdrwis7b7zvw"
   },
   "outputs": [],
   "source": [
    "model.load_weights('initial_weights.h5')\n",
    "model.summary()"
   ]
  },
  {
   "cell_type": "code",
   "execution_count": null,
   "metadata": {
    "colab": {},
    "colab_type": "code",
    "id": "_6eL4VXX7zvz",
    "outputId": "d09e944f-be74-428c-e269-f8f25c061830"
   },
   "outputs": [
    {
     "name": "stdout",
     "output_type": "stream",
     "text": [
      "_________________________________________________________________\n",
      "Layer (type)                 Output Shape              Param #   \n",
      "=================================================================\n",
      "dense_34 (Dense)             (None, 10)                90        \n",
      "_________________________________________________________________\n",
      "dense_35 (Dense)             (None, 10)                110       \n",
      "_________________________________________________________________\n",
      "dense_36 (Dense)             (None, 6)                 66        \n",
      "_________________________________________________________________\n",
      "dense_37 (Dense)             (None, 1)                 7         \n",
      "=================================================================\n",
      "Total params: 273\n",
      "Trainable params: 273\n",
      "Non-trainable params: 0\n",
      "_________________________________________________________________\n"
     ]
    }
   ],
   "source": [
    "#experimental deep network\n",
    "model = Sequential()\n",
    "model.add(Dense(10, input_dim=8, kernel_initializer=RandomUniform(-0.05, 0.05), activation='relu', use_bias=True, bias_initializer=RandomUniform(-0.05, 0.05)))\n",
    "model.add(Dense(10, kernel_initializer=RandomUniform(-0.05, 0.05), activation='relu', use_bias=True, bias_initializer=RandomUniform(-0.05, 0.05)))\n",
    "model.add(Dense(6, kernel_initializer=RandomUniform(-0.05, 0.05), activation='relu', use_bias=True, bias_initializer=RandomUniform(-0.05, 0.05)))\n",
    "model.add(Dense(1, kernel_initializer=RandomUniform(-0.05, 0.05), activation='sigmoid', use_bias=True, bias_initializer=RandomUniform(-0.05, 0.05)))\n",
    "model.summary()"
   ]
  },
  {
   "cell_type": "code",
   "execution_count": null,
   "metadata": {
    "colab": {},
    "colab_type": "code",
    "id": "_2TGfVLd7zv6"
   },
   "outputs": [],
   "source": [
    "#experimental shallow\n",
    "model = Sequential()\n",
    "model.add(Dense(1, input_dim=8, kernel_initializer='uniform', activation='sigmoid', use_bias=True, bias_initializer='uniform'))\n",
    "model.summary()"
   ]
  },
  {
   "cell_type": "code",
   "execution_count": null,
   "metadata": {
    "colab": {},
    "colab_type": "code",
    "id": "xUqDRpoi7zv9"
   },
   "outputs": [],
   "source": [
    "#experiment with removing 1 feature at a time\n",
    "model = Sequential()\n",
    "model.add(Dense(3, input_dim=2, kernel_initializer='uniform', activation='relu', use_bias=True, bias_initializer='uniform'))\n",
    "model.add(Dense(1, kernel_initializer='uniform', activation='sigmoid', use_bias=True, bias_initializer='uniform'))\n",
    "model.summary()"
   ]
  },
  {
   "cell_type": "code",
   "execution_count": null,
   "metadata": {
    "colab": {},
    "colab_type": "code",
    "id": "7Sct1puN7zv_"
   },
   "outputs": [],
   "source": [
    "# compiling the model\n",
    "model.compile(\n",
    " optimizer = \"adam\", #just gonna hope this is correct\n",
    " loss = \"binary_crossentropy\", #I think this is appropriate because the model classifies win/loss with probability in range (0-1)\n",
    " metrics = [\"accuracy\"]\n",
    ")"
   ]
  },
  {
   "cell_type": "code",
   "execution_count": null,
   "metadata": {
    "colab": {},
    "colab_type": "code",
    "id": "8jjNEpOb7zwC"
   },
   "outputs": [],
   "source": [
    "print(model.get_weights())"
   ]
  },
  {
   "cell_type": "code",
   "execution_count": null,
   "metadata": {
    "colab": {},
    "colab_type": "code",
    "id": "k9OxnXcg7zwG"
   },
   "outputs": [],
   "source": [
    "print(model.get_weights())"
   ]
  },
  {
   "cell_type": "code",
   "execution_count": null,
   "metadata": {
    "colab": {},
    "colab_type": "code",
    "id": "Ei0NzMqg7zwJ",
    "outputId": "a861b3d8-b713-44e1-a6b2-20424cef4be0"
   },
   "outputs": [
    {
     "name": "stdout",
     "output_type": "stream",
     "text": [
      "printing to Lua format:\n",
      "{\n",
      "{1.6840228,1.2080216,1.3890104,0.6936591,0.6201604,-1.0781312},\n",
      "{0.85501254,0.14242889,0.015221793,0.5609272,0.15892643,0.7637075},\n",
      "{-1.7778802,-0.98465693,-1.2283139,-0.12462513,-0.33503926,2.1325994},\n",
      "{-0.27260488,0.021732453,0.24134208,0.24100713,-0.059519954,1.2957598},\n",
      "{-0.21612136,-0.41285786,-0.20107973,-0.16087301,0.44857815,1.0908333},\n",
      "{2.1532454,0.94359815,1.0784339,1.0867945,0.7331096,-1.3116993},\n",
      "{0.23970893,0.20522864,-0.045297023,-0.23538433,0.44485608,0.9502267},\n",
      "{0.69320583,0.26774937,-0.17918186,0.5230778,-0.25542137,1.209758},\n",
      "{-0.054367118,-0.12507842,0.028775942,-0.1498849,-0.10822733,1.7348676}\n",
      "},\n",
      "{\n",
      "{0.87698644},\n",
      "{1.0883582},\n",
      "{0.8230581},\n",
      "{0.43343285},\n",
      "{0.52687174},\n",
      "{-0.64260894},\n",
      "{-0.6699466}\n",
      "}"
     ]
    }
   ],
   "source": [
    "# print to lua format\n",
    "print(\"printing to Lua format:\")\n",
    "modelWeights = model.get_weights()\n",
    "for i,layer in enumerate(modelWeights):\n",
    "    if i%2 == 0:\n",
    "        print('{')\n",
    "        for j,node in enumerate(layer):\n",
    "            print('{',end='')\n",
    "            for k,w in enumerate(node):\n",
    "                print(w,end='')\n",
    "                if k < node.size - 1:\n",
    "                    print(',',end='')\n",
    "            print('},')\n",
    "    else:\n",
    "        print('{',end='')\n",
    "        for j,node in enumerate(layer):\n",
    "            print(node,end='')\n",
    "            if j < layer.size - 1:\n",
    "                print(',',end='')\n",
    "        print('}')\n",
    "        print('}',end='')\n",
    "        if i < len(modelWeights) - 1:\n",
    "            print(',')"
   ]
  },
  {
   "cell_type": "code",
   "execution_count": null,
   "metadata": {
    "colab": {},
    "colab_type": "code",
    "id": "tz79Oo9h7zwN",
    "outputId": "25732504-a62e-4d14-9e3c-9b9668e10602"
   },
   "outputs": [
    {
     "name": "stdout",
     "output_type": "stream",
     "text": [
      "[[0.49734595]]\n"
     ]
    }
   ],
   "source": [
    "# test calculate predictions\n",
    "a = np.array([[1, 1, 1, 1, 0.5, 0.5, 1, 1]])\n",
    "predictions = model.predict(a)\n",
    "print(predictions)"
   ]
  },
  {
   "cell_type": "code",
   "execution_count": null,
   "metadata": {
    "colab": {},
    "colab_type": "code",
    "id": "u76n1kgk7zwR",
    "outputId": "76298999-5b8f-484d-b528-8c7f8929438a"
   },
   "outputs": [
    {
     "name": "stdout",
     "output_type": "stream",
     "text": [
      "Train on 129143 samples, validate on 63609 samples\n",
      "Epoch 1/10\n",
      "129143/129143 [==============================] - 1s 8us/step - loss: 0.2443 - acc: 0.8769 - val_loss: 0.2311 - val_acc: 0.8866\n",
      "Epoch 2/10\n",
      "129143/129143 [==============================] - 1s 8us/step - loss: 0.2442 - acc: 0.8766 - val_loss: 0.2312 - val_acc: 0.8862\n",
      "Epoch 3/10\n",
      "129143/129143 [==============================] - 1s 8us/step - loss: 0.2440 - acc: 0.8772 - val_loss: 0.2304 - val_acc: 0.8869\n",
      "Epoch 4/10\n",
      "129143/129143 [==============================] - 1s 8us/step - loss: 0.2440 - acc: 0.8770 - val_loss: 0.2304 - val_acc: 0.8870\n",
      "Epoch 5/10\n",
      "129143/129143 [==============================] - 1s 8us/step - loss: 0.2440 - acc: 0.8768 - val_loss: 0.2301 - val_acc: 0.8876\n",
      "Epoch 6/10\n",
      "129143/129143 [==============================] - 1s 8us/step - loss: 0.2439 - acc: 0.8770 - val_loss: 0.2302 - val_acc: 0.8871\n",
      "Epoch 7/10\n",
      "129143/129143 [==============================] - 1s 8us/step - loss: 0.2439 - acc: 0.8778 - val_loss: 0.2311 - val_acc: 0.8864\n",
      "Epoch 8/10\n",
      "129143/129143 [==============================] - 1s 8us/step - loss: 0.2439 - acc: 0.8770 - val_loss: 0.2306 - val_acc: 0.8869\n",
      "Epoch 9/10\n",
      "129143/129143 [==============================] - 1s 8us/step - loss: 0.2440 - acc: 0.8767 - val_loss: 0.2301 - val_acc: 0.8874\n",
      "Epoch 10/10\n",
      "129143/129143 [==============================] - 1s 8us/step - loss: 0.2439 - acc: 0.8771 - val_loss: 0.2303 - val_acc: 0.8871\n"
     ]
    }
   ],
   "source": [
    "gameData = []\n",
    "with open('data/mod_botwar_train_data.txt') as f:\n",
    "    for line in f:\n",
    "        gameData.append(json.loads(line))\n",
    "    \n",
    "data = []\n",
    "for i,game in enumerate(gameData):\n",
    "    for j,datum in enumerate(game):\n",
    "        data.append(datum)\n",
    "    \n",
    "X = []\n",
    "Y = []\n",
    "for i,datum in enumerate(data):\n",
    "    f = datum['f']\n",
    "    X.append(f)\n",
    "    Y.append(datum['z'])\n",
    "X = np.array(X)\n",
    "Y = np.array(Y)\n",
    "\n",
    "history = model.fit(X, Y, validation_split=0.33, epochs=10, batch_size=200, shuffle=True)    "
   ]
  },
  {
   "cell_type": "code",
   "execution_count": null,
   "metadata": {
    "colab": {},
    "colab_type": "code",
    "id": "c9GdVk1M7zwU"
   },
   "outputs": [],
   "source": [
    "model.save_weights('initial_weights.h5')"
   ]
  },
  {
   "cell_type": "code",
   "execution_count": null,
   "metadata": {
    "colab": {},
    "colab_type": "code",
    "id": "OAaye8K77zwW",
    "outputId": "fa8fbffa-2a4a-40d8-ad77-805bd62afdd1"
   },
   "outputs": [
    {
     "name": "stdout",
     "output_type": "stream",
     "text": [
      "dict_keys(['val_loss', 'val_acc', 'loss', 'acc'])\n"
     ]
    },
    {
     "data": {
      "image/png": "[encoded data removed]",
      "text/plain": [
       "<Figure size 432x288 with 2 Axes>"
      ]
     },
     "metadata": {
      "needs_background": "light",
      "tags": []
     },
     "output_type": "display_data"
    }
   ],
   "source": [
    "import matplotlib.pyplot as plt \n",
    "    \n",
    "print(history.history.keys())  \n",
    "   \n",
    "plt.figure(1)  \n",
    "   \n",
    "# summarize history for accuracy  \n",
    "   \n",
    "plt.subplot(211)  \n",
    "plt.plot(history.history['acc'])  \n",
    "plt.plot(history.history['val_acc'])  \n",
    "plt.title('model accuracy')  \n",
    "plt.ylabel('accuracy')  \n",
    "plt.xlabel('epoch')  \n",
    "plt.legend(['train', 'test'], loc='upper left')  \n",
    "   \n",
    "# summarize history for loss  \n",
    "   \n",
    "plt.subplot(212)  \n",
    "plt.plot(history.history['loss'])  \n",
    "plt.plot(history.history['val_loss'])  \n",
    "plt.title('model loss')  \n",
    "plt.ylabel('loss')  \n",
    "plt.xlabel('epoch')  \n",
    "plt.legend(['train', 'test'], loc='upper left')  \n",
    "plt.show()  "
   ]
  },
  {
   "cell_type": "code",
   "execution_count": null,
   "metadata": {
    "colab": {},
    "colab_type": "code",
    "id": "n5mJXRK37zwb"
   },
   "outputs": [],
   "source": [
    "#current best: \n",
    "#loss: 0.2439 - acc: 0.8771 - val_loss: 0.2303 - val_acc: 0.8871 8-6-1\n",
    "#loss: 0.2414 - acc: 0.8793 - val_loss: 0.2276 - val_acc: 0.8884 8-10-10-6-1"
   ]
  }
 ],
 "metadata": {
  "colab": {
   "name": "nn_training.ipynb",
   "provenance": []
  },
  "kernelspec": {
   "display_name": "Python 3",
   "language": "python",
   "name": "python3"
  },
  "language_info": {
   "codemirror_mode": {
    "name": "ipython",
    "version": 3
   },
   "file_extension": ".py",
   "mimetype": "text/x-python",
   "name": "python",
   "nbconvert_exporter": "python",
   "pygments_lexer": "ipython3",
   "version": "3.7.3"
  }
 },
 "nbformat": 4,
 "nbformat_minor": 2
}
