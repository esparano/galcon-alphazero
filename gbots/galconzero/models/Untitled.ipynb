{
 "cells": [
  {
   "cell_type": "code",
   "execution_count": 2,
   "metadata": {},
   "outputs": [
    {
     "name": "stderr",
     "output_type": "stream",
     "text": [
      "A subdirectory or file keras-transformer already exists.\n"
     ]
    }
   ],
   "source": []
  },
  {
   "cell_type": "code",
   "execution_count": 3,
   "metadata": {},
   "outputs": [
    {
     "name": "stderr",
     "output_type": "stream",
     "text": [
      "fatal: destination path 'keras-transformer' already exists and is not an empty directory.\n"
     ]
    }
   ],
   "source": [
    "\n"
   ]
  },
  {
   "cell_type": "code",
   "execution_count": 6,
   "metadata": {},
   "outputs": [
    {
     "name": "stderr",
     "output_type": "stream",
     "text": [
      "The system cannot find the path specified.\n"
     ]
    }
   ],
   "source": []
  },
  {
   "cell_type": "code",
   "execution_count": 9,
   "metadata": {},
   "outputs": [
    {
     "name": "stdout",
     "output_type": "stream",
     "text": [
      "Processing c:\\users\\evan sparano\\documents\\github\\galcon-alphazero\\gbots\\galconzero\\models\\keras-transformer\n",
      "Requirement already satisfied: Keras>=2.0.8 in d:\\software\\anaconda3\\envs\\galconzero\\lib\\site-packages (from keras-transformer==0.1.dev17+gb9d4e76) (2.2.4)\n",
      "Requirement already satisfied: numpy in d:\\software\\anaconda3\\envs\\galconzero\\lib\\site-packages (from keras-transformer==0.1.dev17+gb9d4e76) (1.16.4)\n",
      "Requirement already satisfied: scipy>=0.14 in d:\\software\\anaconda3\\envs\\galconzero\\lib\\site-packages (from Keras>=2.0.8->keras-transformer==0.1.dev17+gb9d4e76) (1.2.1)\n",
      "Requirement already satisfied: six>=1.9.0 in c:\\users\\evan sparano\\appdata\\roaming\\python\\python37\\site-packages (from Keras>=2.0.8->keras-transformer==0.1.dev17+gb9d4e76) (1.11.0)\n",
      "Requirement already satisfied: pyyaml in c:\\users\\evan sparano\\appdata\\roaming\\python\\python37\\site-packages (from Keras>=2.0.8->keras-transformer==0.1.dev17+gb9d4e76) (3.13)\n",
      "Requirement already satisfied: h5py in d:\\software\\anaconda3\\envs\\galconzero\\lib\\site-packages (from Keras>=2.0.8->keras-transformer==0.1.dev17+gb9d4e76) (2.9.0)\n",
      "Requirement already satisfied: keras_applications>=1.0.6 in d:\\software\\anaconda3\\envs\\galconzero\\lib\\site-packages (from Keras>=2.0.8->keras-transformer==0.1.dev17+gb9d4e76) (1.0.8)\n",
      "Requirement already satisfied: keras_preprocessing>=1.0.5 in d:\\software\\anaconda3\\envs\\galconzero\\lib\\site-packages (from Keras>=2.0.8->keras-transformer==0.1.dev17+gb9d4e76) (1.1.0)\n",
      "Building wheels for collected packages: keras-transformer\n",
      "  Building wheel for keras-transformer (setup.py): started\n",
      "  Building wheel for keras-transformer (setup.py): finished with status 'done'\n",
      "  Stored in directory: C:\\Users\\Evan Sparano\\AppData\\Local\\pip\\Cache\\wheels\\25\\73\\bf\\a9ede37a5b10d6a1b9f7ca1196827704dd8ea7c5053bbb7938\n",
      "Successfully built keras-transformer\n",
      "Installing collected packages: keras-transformer\n",
      "Successfully installed keras-transformer-0.1.dev17+gb9d4e76\n"
     ]
    }
   ],
   "source": [
    "!pip install ./keras-transformer"
   ]
  },
  {
   "cell_type": "code",
   "execution_count": null,
   "metadata": {},
   "outputs": [],
   "source": []
  }
 ],
 "metadata": {
  "kernelspec": {
   "display_name": "Python 3.7.3 64-bit ('GalconZero': conda)",
   "language": "python",
   "name": "python37364bitgalconzerocondab411423f13334c399d2b79cb5e4d2c8d"
  },
  "language_info": {
   "codemirror_mode": {
    "name": "ipython",
    "version": 3
   },
   "file_extension": ".py",
   "mimetype": "text/x-python",
   "name": "python",
   "nbconvert_exporter": "python",
   "pygments_lexer": "ipython3",
   "version": "3.7.3"
  }
 },
 "nbformat": 4,
 "nbformat_minor": 2
}
