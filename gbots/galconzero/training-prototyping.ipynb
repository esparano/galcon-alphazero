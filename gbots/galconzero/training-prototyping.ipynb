{
 "cells": [
  {
   "cell_type": "code",
   "execution_count": null,
   "metadata": {},
   "outputs": [],
   "source": [
    "from nnModel import getModel\n",
    "\n",
    "model = getModel()\n",
    "print(model.summary())"
   ]
  },
  {
   "cell_type": "code",
   "execution_count": null,
   "metadata": {},
   "outputs": [],
   "source": [
    "import random\n",
    "\n",
    "from trainingHelper import TrainingHelper\n",
    "from trainingGame import loadTrainingGame\n",
    "import nnHelper\n",
    "import numpy as np\n",
    "\n",
    "from os import listdir\n",
    "from os.path import isfile, join\n",
    "\n",
    "# filepath = \"D:/GalconZero/Games/iteration_0\"\n",
    "filepath = \"D:/GalconZero/Games\"\n",
    "\n",
    "BATCH_SIZE = 64\n",
    "\n",
    "def getTrainingDataForNumGames(num):\n",
    "    trainX = np.empty((0, 22, 14))\n",
    "    trainY = [np.empty((0, 925)), np.empty((0,))]\n",
    "\n",
    "    for _ in [1]:\n",
    "        trainingGame = loadTrainingGame(filepath + \"/game_1562210791.2397857_3.pickle\")\n",
    "        helper = TrainingHelper(trainingGame)    \n",
    "        trainX = np.concatenate((trainX, helper.getTrainX()))\n",
    "        [policy, value] = helper.getTrainY()\n",
    "        trainY = [np.concatenate((trainY[0], policy)), np.concatenate((trainY[1], value))]\n",
    "\n",
    "    print(\"Finished loading {} training files\".format(num))\n",
    "    return trainX, trainY\n",
    "\n",
    "trainX, trainY = getTrainingDataForNumGames(1)\n",
    "\n",
    "def getYAxisFlippedTrainingData(data):\n",
    "    data = data.copy()\n",
    "    for sample in data:\n",
    "        for row in sample:\n",
    "            row[7] *= -1\n",
    "            row[10] *= -1\n",
    "            row[13] *= -1\n",
    "    return data\n",
    "\n",
    "# this involves reversing ordering of each sample in trainX, then mapping indices somehow to fix trainY, both sends and redirects\n",
    "def getXAxisFlippedTrainingData(data):\n",
    "    raise NotImplementedError\n"
   ]
  },
  {
   "cell_type": "code",
   "execution_count": null,
   "metadata": {},
   "outputs": [],
   "source": [
    "from trainingGame import loadTrainingGame\n",
    "from trainingHelper import TrainingHelper\n",
    "from mapHelper import mapHelper\n",
    "\n",
    "game = loadTrainingGame(\"testGame.pickle\")\n",
    "exampleState = game.states[0]\n",
    "mapHelper.setItems(exampleState)\n",
    "helper = TrainingHelper(game) \n",
    "\n",
    "trainX = helper.getTrainX()\n",
    "trainY = helper.getTrainY()\n"
   ]
  },
  {
   "cell_type": "code",
   "execution_count": null,
   "metadata": {},
   "outputs": [],
   "source": [
    "# print(trainX[240])\n",
    "for i in range(5, 20):\n",
    "    print(game.states[240][i].owner)"
   ]
  },
  {
   "cell_type": "code",
   "execution_count": null,
   "metadata": {},
   "outputs": [],
   "source": [
    "import numpy as np\n",
    "print(trainY)\n",
    "a = model.predict(np.array([trainX[0]]))\n",
    "a[1][0][0]"
   ]
  }
 ],
 "metadata": {
  "kernelspec": {
   "display_name": "Python 3",
   "language": "python",
   "name": "python3"
  },
  "language_info": {
   "codemirror_mode": {
    "name": "ipython",
    "version": 3
   },
   "file_extension": ".py",
   "mimetype": "text/x-python",
   "name": "python",
   "nbconvert_exporter": "python",
   "pygments_lexer": "ipython3",
   "version": "3.7.3"
  }
 },
 "nbformat": 4,
 "nbformat_minor": 2
}
