{
 "cells": [
  {
   "cell_type": "code",
   "execution_count": null,
   "metadata": {},
   "outputs": [],
   "source": [
    "import numpy as np\n",
    "\n",
    "from mapHelper import sortedSourceTargetToIndex, indexToSortedSourceTarget\n",
    "from nnSetup import NUM_ACTIONS_PER_LAYER, NUM_LAYERS\n",
    "\n",
    "def getXAxisReflectedTrainingData(_trainX):\n",
    "    trainX = _trainX.copy()\n",
    "    for sample in trainX:\n",
    "        for row in sample:\n",
    "            row[8] *= -1\n",
    "            row[11] *= -1\n",
    "            row[14] *= -1\n",
    "    return data\n",
    "\n",
    "def yAxisFlipTrainX(trainX):\n",
    "    flipped = np.flip(trainX, 1)\n",
    "    for sample in flipped:\n",
    "        for row in sample:\n",
    "            row[7] *= -1\n",
    "            row[10] *= -1\n",
    "            row[13] *= -1\n",
    "    return flipped\n",
    "\n",
    "# TODO: work with fleets\n",
    "def getYFlippedIndex(index):\n",
    "    if index == 0:\n",
    "        return 0\n",
    "    offset = int((index-1) / NUM_ACTIONS_PER_LAYER) * NUM_ACTIONS_PER_LAYER + 1\n",
    "    return (NUM_ACTIONS_PER_LAYER - 1) - (index - 1) % NUM_ACTIONS_PER_LAYER + offset\n",
    "\n",
    "def flipSample(sample):\n",
    "    # TODO: inefficient\n",
    "    newIndices = np.array([getYFlippedIndex(index) for index in np.arange(sample.size)])\n",
    "    return sample[newIndices]\n",
    "        \n",
    "def yAxisFlipTrainP(trainP):\n",
    "    return np.array([flipSample(sample) for sample in trainP])\n",
    "\n",
    "def getYAxisReflectedTrainingData(_trainX, _trainP):\n",
    "    return yAxisFlipTrainX(_trainX.copy()), yAxisFlipTrainP(_trainP.copy())"
   ]
  },
  {
   "cell_type": "code",
   "execution_count": null,
   "metadata": {},
   "outputs": [],
   "source": [
    "\n"
   ]
  },
  {
   "cell_type": "code",
   "execution_count": null,
   "metadata": {},
   "outputs": [],
   "source": []
  },
  {
   "cell_type": "code",
   "execution_count": null,
   "metadata": {},
   "outputs": [],
   "source": []
  },
  {
   "cell_type": "code",
   "execution_count": null,
   "metadata": {},
   "outputs": [],
   "source": []
  },
  {
   "cell_type": "code",
   "execution_count": null,
   "metadata": {},
   "outputs": [],
   "source": []
  },
  {
   "cell_type": "code",
   "execution_count": null,
   "metadata": {},
   "outputs": [],
   "source": []
  }
 ],
 "metadata": {
  "kernelspec": {
   "display_name": "Python 3",
   "language": "python",
   "name": "python3"
  },
  "language_info": {
   "codemirror_mode": {
    "name": "ipython",
    "version": 3
   },
   "file_extension": ".py",
   "mimetype": "text/x-python",
   "name": "python",
   "nbconvert_exporter": "python",
   "pygments_lexer": "ipython3",
   "version": "3.7.3"
  }
 },
 "nbformat": 4,
 "nbformat_minor": 4
}
