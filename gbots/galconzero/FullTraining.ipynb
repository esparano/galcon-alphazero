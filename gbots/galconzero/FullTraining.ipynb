{
 "cells": [
  {
   "cell_type": "code",
   "execution_count": 1,
   "metadata": {},
   "outputs": [
    {
     "name": "stderr",
     "output_type": "stream",
     "text": [
      "Using TensorFlow backend.\n"
     ]
    },
    {
     "name": "stdout",
     "output_type": "stream",
     "text": [
      "WARNING:tensorflow:From C:\\Anaconda3\\envs\\GalconZero\\lib\\site-packages\\tensorflow\\python\\framework\\op_def_library.py:263: colocate_with (from tensorflow.python.framework.ops) is deprecated and will be removed in a future version.\n",
      "Instructions for updating:\n",
      "Colocations handled automatically by placer.\n",
      "WARNING:tensorflow:From C:\\Anaconda3\\envs\\GalconZero\\lib\\site-packages\\tensorflow\\python\\ops\\math_ops.py:3066: to_int32 (from tensorflow.python.ops.math_ops) is deprecated and will be removed in a future version.\n",
      "Instructions for updating:\n",
      "Use tf.cast instead.\n"
     ]
    }
   ],
   "source": [
    "from nnModel import getModel\n",
    "model = getModel(\"gz_dev.model\")"
   ]
  },
  {
   "cell_type": "code",
   "execution_count": 2,
   "metadata": {},
   "outputs": [],
   "source": [
    "import re\n",
    "import shutil\n",
    "import os\n",
    "import time\n",
    "from os.path import isfile, join\n",
    "from subprocess import Popen\n",
    "\n",
    "currentDir = '.'\n",
    "gameSourceDir = \"D:/GalconZero/Games/\"\n",
    "gameArchiveDirPrefix = \"D:/GalconZero/OldGames/Iter\"\n",
    "modelArchiveDir = \"D:/GalconZero/OldModels\"\n",
    "\n",
    "NUM_FILES_PER_ITERATION = 4\n",
    "\n",
    "botProcess = None\n",
    "\n",
    "def restartBots():\n",
    "    botBasePath = r\"C:\\Users\\Evan Sparano\\Documents\\GitHub\\galcon-alphazero\\gbots\"\n",
    "    botProcess = Popen(botBasePath + \"\\launchDevBots.bat\", cwd=botBasePath)\n",
    "\n",
    "def killBots():\n",
    "    if botProcess != None:\n",
    "        os.kill(botProcess.pid, signal.SIGTERM)\n",
    "    \n",
    "def archiveGames(iterationNum):\n",
    "    archiveDir = gameArchiveDirPrefix + str(iterationNum)\n",
    "    os.makedirs(archiveDir)\n",
    "\n",
    "    files = os.listdir(gameSourceDir)\n",
    "    for f in files:\n",
    "            shutil.move(gameSourceDir+f, archiveDir)\n",
    "\n",
    "def getCurrentIteration():\n",
    "    onlyFiles = [f for f in os.listdir(modelArchiveDir) if isfile(join(modelArchiveDir, f)) and 'iter' in f]\n",
    "    return max([ int(re.findall(r'\\d+', filename)[0]) for filename in onlyFiles], default=-1) + 1\n",
    "\n",
    "def trainModel():\n",
    "    time.sleep(20)\n",
    "    print(\"trained the model!\")\n",
    "\n",
    "def nextIteration():\n",
    "    # TODO: this isn't actually killing the bots, so the bots keep generating unused games while model is training\n",
    "    killBots()\n",
    "    \n",
    "    prevIterNum = getCurrentIteration()\n",
    "    model.save(modelArchiveDir + '/gz_dev.iter{0}.model'.format(prevIterNum))\n",
    "    \n",
    "    trainModel()\n",
    "    model.save(\"gz_dev.model\")\n",
    "    \n",
    "    archiveGames(prevIterNum)\n",
    "    \n",
    "    restartBots()\n",
    "    \n",
    "def startTrainingLoop(maxIterations=3):\n",
    "    restartBots()\n",
    "    \n",
    "    while getCurrentIteration() < maxIterations:\n",
    "        time.sleep(1)\n",
    "        files = os.listdir(gameSourceDir)\n",
    "        if len(files) >= NUM_FILES_PER_ITERATION:\n",
    "            nextIteration()\n",
    "            \n",
    "    killBots()\n",
    "    "
   ]
  },
  {
   "cell_type": "code",
   "execution_count": 3,
   "metadata": {},
   "outputs": [
    {
     "name": "stdout",
     "output_type": "stream",
     "text": [
      "trained the model!\n",
      "trained the model!\n",
      "trained the model!\n"
     ]
    }
   ],
   "source": [
    "startTrainingLoop()"
   ]
  },
  {
   "cell_type": "code",
   "execution_count": null,
   "metadata": {},
   "outputs": [],
   "source": [
    "\n"
   ]
  },
  {
   "cell_type": "code",
   "execution_count": null,
   "metadata": {},
   "outputs": [],
   "source": []
  }
 ],
 "metadata": {
  "kernelspec": {
   "display_name": "Python 3",
   "language": "python",
   "name": "python3"
  },
  "language_info": {
   "codemirror_mode": {
    "name": "ipython",
    "version": 3
   },
   "file_extension": ".py",
   "mimetype": "text/x-python",
   "name": "python",
   "nbconvert_exporter": "python",
   "pygments_lexer": "ipython3",
   "version": "3.7.3"
  }
 },
 "nbformat": 4,
 "nbformat_minor": 2
}
