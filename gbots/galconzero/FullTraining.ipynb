{
 "cells": [
  {
   "cell_type": "code",
   "execution_count": null,
   "metadata": {},
   "outputs": [],
   "source": [
    "from nn.config import MODEL_LOCATION\n",
    "from nn.nnModel import getModel\n",
    "from training.nnTrainingSession import NNTrainingSession\n",
    "\n",
    "model = getModel(MODEL_LOCATION)\n",
    "session = NNTrainingSession(model)"
   ]
  },
  {
   "cell_type": "code",
   "execution_count": null,
   "metadata": {},
   "outputs": [],
   "source": [
    "import re\n",
    "import shutil\n",
    "import os\n",
    "import time\n",
    "from os.path import isfile, join\n",
    "from subprocess import Popen\n",
    "\n",
    "from training.nnTrainingFile import createTrainingFiles\n",
    "from nn.config import MODEL_NAME, MODEL_LOCATION, GAME_SOURCE_DIR, GAME_ARCHIVE_DIR_PREFIX, MODEL_ARCHIVE_DIR\n",
    "\n",
    "botProcess = None\n",
    "\n",
    "def createDirectoryIfNecessary(d):\n",
    "    if not os.path.exists(d):\n",
    "        os.makedirs(d)\n",
    "\n",
    "def createDirectoriesIfNecessary():\n",
    "    createDirectoryIfNecessary(GAME_SOURCE_DIR)\n",
    "    createDirectoryIfNecessary(GAME_ARCHIVE_DIR_PREFIX)\n",
    "    createDirectoryIfNecessary(MODEL_ARCHIVE_DIR)\n",
    "\n",
    "def restartBots():\n",
    "    botBasePath = r\"C:\\Users\\Evan Sparano\\Documents\\GitHub\\galcon-alphazero\\gbots\"\n",
    "    botProcess = Popen(botBasePath + \"\\launch4Bots.bat\", cwd=botBasePath)\n",
    "\n",
    "def killBots():\n",
    "    # TODO: this only kills one bot process? not all of them?\n",
    "    if botProcess != None:\n",
    "        os.kill(botProcess.pid, signal.SIGTERM)\n",
    "    \n",
    "def archiveGames(iterationNum):\n",
    "    archiveDir = f\"{GAME_ARCHIVE_DIR_PREFIX}/Iter{iterationNum}\"\n",
    "    os.makedirs(archiveDir)\n",
    "\n",
    "    files = os.listdir(GAME_SOURCE_DIR)\n",
    "    for f in files:\n",
    "        fullFilePath = f\"{GAME_SOURCE_DIR}/{f}\"\n",
    "        if 'npz' in f:\n",
    "            shutil.move(fullFilePath, archiveDir)\n",
    "        else:\n",
    "            os.remove(fullFilePath)\n",
    "\n",
    "def getCurrentIteration():\n",
    "    onlyFiles = [f for f in os.listdir(MODEL_ARCHIVE_DIR) if isfile(join(MODEL_ARCHIVE_DIR, f)) and 'iter' in f]\n",
    "    iters = [f.split('.')[1] for f in onlyFiles]\n",
    "    return max([ int(re.findall(r'\\d+', iteration)[0]) for iteration in iters], default=-1) + 1\n",
    "\n",
    "def trainModel():\n",
    "    # 10 loops because only a 10th of the data is actually sampled per loop\n",
    "    # -1 numGamesPerLoop to use all games\n",
    "    session.doTrain(num_loops=10, numGamesPerLoop=-1, numEpochs=1)\n",
    "    print(\"trained the model!\")\n",
    "\n",
    "def nextIteration():\n",
    "    # TODO: this isn't actually killing the bots, so the bots keep generating unused games while model is training\n",
    "#     killBots()\n",
    "    \n",
    "    prevIterNum = getCurrentIteration()\n",
    "    print(f\"FINISHING ITERATION: {prevIterNum}\")\n",
    "    model.save(MODEL_ARCHIVE_DIR + f\"/{MODEL_NAME}.iter{prevIterNum}.model\")\n",
    "    \n",
    "    trainModel()\n",
    "    model.save(MODEL_LOCATION)\n",
    "    \n",
    "    archiveGames(prevIterNum)\n",
    "    \n",
    "    restartBots()\n",
    "    \n",
    "def startTrainingLoop(maxIterations=3, numFilesPerIteration=10):\n",
    "    createDirectoriesIfNecessary()\n",
    "    restartBots()\n",
    "    \n",
    "    while getCurrentIteration() < maxIterations:\n",
    "        time.sleep(10)\n",
    "        createTrainingFiles()\n",
    "        files = os.listdir(GAME_SOURCE_DIR)\n",
    "        # multiply by two because of pickle and npz files\n",
    "        if len(files) >= numFilesPerIteration * 2:\n",
    "            nextIteration()\n",
    "            \n",
    "    killBots()\n",
    "    "
   ]
  },
  {
   "cell_type": "code",
   "execution_count": null,
   "metadata": {},
   "outputs": [],
   "source": [
    "startTrainingLoop(10000)"
   ]
  },
  {
   "cell_type": "code",
   "execution_count": null,
   "metadata": {},
   "outputs": [],
   "source": [
    "from training.nnTrainingGraph import plotNNTrainingSession\n",
    "\n",
    "plotNNTrainingSession(session)"
   ]
  },
  {
   "cell_type": "code",
   "execution_count": null,
   "metadata": {},
   "outputs": [],
   "source": []
  },
  {
   "cell_type": "code",
   "execution_count": null,
   "metadata": {},
   "outputs": [],
   "source": []
  }
 ],
 "metadata": {
  "kernelspec": {
   "display_name": "Python 3",
   "language": "python",
   "name": "python3"
  },
  "language_info": {
   "codemirror_mode": {
    "name": "ipython",
    "version": 3
   },
   "file_extension": ".py",
   "mimetype": "text/x-python",
   "name": "python",
   "nbconvert_exporter": "python",
   "pygments_lexer": "ipython3",
   "version": "3.7.3"
  }
 },
 "nbformat": 4,
 "nbformat_minor": 4
}
