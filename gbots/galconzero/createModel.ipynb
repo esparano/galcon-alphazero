{
 "cells": [
  {
   "cell_type": "code",
   "execution_count": 30,
   "metadata": {},
   "outputs": [
    {
     "name": "stdout",
     "output_type": "stream",
     "text": [
      "__________________________________________________________________________________________________\n",
      "Layer (type)                    Output Shape         Param #     Connected to                     \n",
      "==================================================================================================\n",
      "input_12 (InputLayer)           (None, 22, 14)       0                                            \n",
      "__________________________________________________________________________________________________\n",
      "dense_52 (Dense)                (None, 22, 10)       150         input_12[0][0]                   \n",
      "__________________________________________________________________________________________________\n",
      "leaky_re_lu_21 (LeakyReLU)      (None, 22, 10)       0           dense_52[0][0]                   \n",
      "__________________________________________________________________________________________________\n",
      "dense_53 (Dense)                (None, 22, 8)        88          leaky_re_lu_21[0][0]             \n",
      "__________________________________________________________________________________________________\n",
      "leaky_re_lu_22 (LeakyReLU)      (None, 22, 8)        0           dense_53[0][0]                   \n",
      "__________________________________________________________________________________________________\n",
      "flatten_11 (Flatten)            (None, 176)          0           leaky_re_lu_22[0][0]             \n",
      "__________________________________________________________________________________________________\n",
      "dense_55 (Dense)                (None, 20)           3540        flatten_11[0][0]                 \n",
      "__________________________________________________________________________________________________\n",
      "leaky_re_lu_24 (LeakyReLU)      (None, 20)           0           dense_55[0][0]                   \n",
      "__________________________________________________________________________________________________\n",
      "dense_54 (Dense)                (None, 100)          17700       flatten_11[0][0]                 \n",
      "__________________________________________________________________________________________________\n",
      "dense_56 (Dense)                (None, 7)            147         leaky_re_lu_24[0][0]             \n",
      "__________________________________________________________________________________________________\n",
      "leaky_re_lu_23 (LeakyReLU)      (None, 100)          0           dense_54[0][0]                   \n",
      "__________________________________________________________________________________________________\n",
      "leaky_re_lu_25 (LeakyReLU)      (None, 7)            0           dense_56[0][0]                   \n",
      "__________________________________________________________________________________________________\n",
      "policy (Dense)                  (None, 925)          93425       leaky_re_lu_23[0][0]             \n",
      "__________________________________________________________________________________________________\n",
      "value (Dense)                   (None, 1)            8           leaky_re_lu_25[0][0]             \n",
      "==================================================================================================\n",
      "Total params: 115,058\n",
      "Trainable params: 115,058\n",
      "Non-trainable params: 0\n",
      "__________________________________________________________________________________________________\n",
      "None\n"
     ]
    }
   ],
   "source": [
    "import numpy as np\n",
    "from keras.models import Model\n",
    "from keras.layers import Input, Dense, Activation, Flatten, LeakyReLU\n",
    "from keras.utils import plot_model\n",
    "from nnSetup import NUM_PLANETS, NUM_FEATURES, NUM_OUTPUTS\n",
    "\n",
    "RELU_ALPHA = 0.05\n",
    "\n",
    "# INPUTS\n",
    "inputs = Input(shape=(NUM_PLANETS, NUM_FEATURES))\n",
    "\n",
    "# BODY\n",
    "# TODO: insert residual GCNNs layers here\n",
    "hidden1 = Dense(10)(inputs)\n",
    "hidden1 = LeakyReLU(alpha=RELU_ALPHA)(hidden1)\n",
    "hidden2 = Dense(8)(hidden1)\n",
    "hidden2 = LeakyReLU(alpha=RELU_ALPHA)(hidden2)\n",
    "flat = Flatten()(hidden2)\n",
    "\n",
    "# POLICY HEAD\n",
    "policyHead1 = Dense(100, activation='relu')(flat)\n",
    "policyHead1 = LeakyReLU(alpha=RELU_ALPHA)(policyHead1)\n",
    "\n",
    "policyHead = Dense(NUM_OUTPUTS, activation='softmax', name='policy')(policyHead1)\n",
    "\n",
    "# VALUE HEAD\n",
    "valueHead2 = Dense(20, activation='relu')(flat)\n",
    "valueHead2 = LeakyReLU(alpha=RELU_ALPHA)(valueHead2)\n",
    "\n",
    "valueHead1 = Dense(7, activation='relu')(valueHead2)\n",
    "valueHead1 = LeakyReLU(alpha=RELU_ALPHA)(valueHead1)\n",
    "\n",
    "valueHead = Dense(1, activation='sigmoid', name='value')(valueHead1)\n",
    "\n",
    "# TODO: multiple percentages\n",
    "model = Model(inputs=inputs, outputs=[policyHead, valueHead], name='GZ_DenseNetwork')\n",
    "\n",
    "\n",
    "print(model.summary())\n",
    "plot_model(model, to_file='model_graph.png')\n",
    "\n",
    "# TODO: are these losses right??\n",
    "# TODO: measure losses to get better loss weights?\n",
    "# TODO: are these metrics right?\n",
    "model.compile(loss=['categorical_crossentropy', 'binary_crossentropy'], loss_weights=[1, 1], optimizer='adam', metrics = [\"accuracy\"])"
   ]
  },
  {
   "cell_type": "code",
   "execution_count": 24,
   "metadata": {},
   "outputs": [],
   "source": [
    "from trainingGame import loadTrainingGame\n",
    "from trainingHelper import TrainingHelper\n",
    "\n",
    "game = loadTrainingGame(\"testGame.pickle\")\n",
    "helper = TrainingHelper(game) \n",
    "\n",
    "trainX = helper.getTrainX()\n",
    "\n"
   ]
  },
  {
   "cell_type": "code",
   "execution_count": null,
   "metadata": {},
   "outputs": [],
   "source": [
    "import numpy as np\n",
    "\n",
    "model.predict(np.array([trainX[0]]))"
   ]
  },
  {
   "cell_type": "code",
   "execution_count": 32,
   "metadata": {},
   "outputs": [],
   "source": [
    "model.save(\"gz_dev.model\")"
   ]
  },
  {
   "cell_type": "code",
   "execution_count": null,
   "metadata": {},
   "outputs": [],
   "source": []
  }
 ],
 "metadata": {
  "kernelspec": {
   "display_name": "Python 3",
   "language": "python",
   "name": "python3"
  },
  "language_info": {
   "codemirror_mode": {
    "name": "ipython",
    "version": 3
   },
   "file_extension": ".py",
   "mimetype": "text/x-python",
   "name": "python",
   "nbconvert_exporter": "python",
   "pygments_lexer": "ipython3",
   "version": "3.7.3"
  }
 },
 "nbformat": 4,
 "nbformat_minor": 2
}
