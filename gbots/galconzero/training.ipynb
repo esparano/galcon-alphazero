{
 "cells": [
  {
   "cell_type": "code",
   "execution_count": 1,
   "metadata": {},
   "outputs": [
    {
     "name": "stderr",
     "output_type": "stream",
     "text": [
      "Using TensorFlow backend.\n"
     ]
    },
    {
     "name": "stdout",
     "output_type": "stream",
     "text": [
      "WARNING:tensorflow:From C:\\Anaconda3\\envs\\GalconZero\\lib\\site-packages\\tensorflow\\python\\framework\\op_def_library.py:263: colocate_with (from tensorflow.python.framework.ops) is deprecated and will be removed in a future version.\n",
      "Instructions for updating:\n",
      "Colocations handled automatically by placer.\n"
     ]
    }
   ],
   "source": [
    "from keras.models import load_model\n",
    "\n",
    "model = load_model(\"gz_dev.model\")"
   ]
  },
  {
   "cell_type": "code",
   "execution_count": 2,
   "metadata": {},
   "outputs": [
    {
     "name": "stdout",
     "output_type": "stream",
     "text": [
      "loading training file game_1561984294.2906945_2.pickle\n",
      "loading training file game_1561984294.2906945_3.pickle\n",
      "loading training file game_1561984372.5243607_2.pickle\n",
      "loading training file game_1561984372.5243607_3.pickle\n",
      "loading training file game_1561984426.1574566_2.pickle\n",
      "loading training file game_1561984426.1574566_3.pickle\n",
      "loading training file game_1561984486.2444758_2.pickle\n",
      "loading training file game_1561984486.2444758_3.pickle\n",
      "loading training file game_1561984549.991637_2.pickle\n",
      "loading training file game_1561984549.991637_3.pickle\n",
      "WARNING:tensorflow:From C:\\Anaconda3\\envs\\GalconZero\\lib\\site-packages\\tensorflow\\python\\ops\\math_ops.py:3066: to_int32 (from tensorflow.python.ops.math_ops) is deprecated and will be removed in a future version.\n",
      "Instructions for updating:\n",
      "Use tf.cast instead.\n",
      "Train on 1979 samples, validate on 975 samples\n",
      "Epoch 1/5\n",
      "1979/1979 [==============================] - 1s 497us/step - loss: 15.5436 - policy_loss: 6.6662 - value_loss: 8.8775 - policy_categorical_accuracy: 0.0531 - value_categorical_accuracy: 1.0000 - val_loss: 12.7170 - val_policy_loss: 6.5853 - val_value_loss: 6.1317 - val_policy_categorical_accuracy: 0.0564 - val_value_categorical_accuracy: 1.0000\n",
      "Epoch 2/5\n",
      "1979/1979 [==============================] - 0s 29us/step - loss: 15.5283 - policy_loss: 6.6508 - value_loss: 8.8775 - policy_categorical_accuracy: 0.0536 - value_categorical_accuracy: 1.0000 - val_loss: 12.7044 - val_policy_loss: 6.5727 - val_value_loss: 6.1317 - val_policy_categorical_accuracy: 0.0554 - val_value_categorical_accuracy: 1.0000\n",
      "Epoch 3/5\n",
      "1979/1979 [==============================] - 0s 29us/step - loss: 15.5124 - policy_loss: 6.6349 - value_loss: 8.8775 - policy_categorical_accuracy: 0.0541 - value_categorical_accuracy: 1.0000 - val_loss: 12.6915 - val_policy_loss: 6.5598 - val_value_loss: 6.1317 - val_policy_categorical_accuracy: 0.0554 - val_value_categorical_accuracy: 1.0000\n",
      "Epoch 4/5\n",
      "1979/1979 [==============================] - 0s 29us/step - loss: 15.4959 - policy_loss: 6.6184 - value_loss: 8.8775 - policy_categorical_accuracy: 0.0541 - value_categorical_accuracy: 1.0000 - val_loss: 12.6781 - val_policy_loss: 6.5464 - val_value_loss: 6.1317 - val_policy_categorical_accuracy: 0.0554 - val_value_categorical_accuracy: 1.0000\n",
      "Epoch 5/5\n",
      "1979/1979 [==============================] - 0s 29us/step - loss: 15.4788 - policy_loss: 6.6013 - value_loss: 8.8775 - policy_categorical_accuracy: 0.0546 - value_categorical_accuracy: 1.0000 - val_loss: 12.6643 - val_policy_loss: 6.5326 - val_value_loss: 6.1317 - val_policy_categorical_accuracy: 0.0554 - val_value_categorical_accuracy: 1.0000\n"
     ]
    }
   ],
   "source": [
    "from trainingHelper import TrainingHelper\n",
    "from trainingGame import loadTrainingGame\n",
    "import numpy as np\n",
    "\n",
    "from os import listdir\n",
    "from os.path import isfile, join\n",
    "\n",
    "filepath = \"./games\"\n",
    "onlyFiles = [f for f in listdir(filepath) if isfile(join(filepath, f)) and \".pickle\" in f]\n",
    "\n",
    "trainX = np.empty((0, 22, 14))\n",
    "trainY = [np.empty((0, 925)), np.empty((0,))]\n",
    "for filename in onlyFiles[:10]:\n",
    "    print(\"loading training file {}\".format(filename))\n",
    "    trainingGame = loadTrainingGame(filepath + \"/\" + filename)\n",
    "    helper = TrainingHelper(trainingGame)    \n",
    "    trainX = np.concatenate((trainX, helper.getTrainX()))\n",
    "    [policy, value] = helper.getTrainY()\n",
    "    trainY = [np.concatenate((trainY[0], policy)), np.concatenate((trainY[1], value))]\n",
    "\n",
    "history = model.fit(trainX, trainY, validation_split=0.33, epochs=5, batch_size=2048)"
   ]
  },
  {
   "cell_type": "code",
   "execution_count": 11,
   "metadata": {},
   "outputs": [
    {
     "ename": "ModuleNotFoundError",
     "evalue": "No module named 'matplotlib'",
     "output_type": "error",
     "traceback": [
      "\u001b[1;31m---------------------------------------------------------------------------\u001b[0m",
      "\u001b[1;31mModuleNotFoundError\u001b[0m                       Traceback (most recent call last)",
      "\u001b[1;32m<ipython-input-11-22f6b097ca40>\u001b[0m in \u001b[0;36m<module>\u001b[1;34m\u001b[0m\n\u001b[1;32m----> 1\u001b[1;33m \u001b[1;32mimport\u001b[0m \u001b[0mmatplotlib\u001b[0m\u001b[1;33m.\u001b[0m\u001b[0mpyplot\u001b[0m \u001b[1;32mas\u001b[0m \u001b[0mplt\u001b[0m\u001b[1;33m\u001b[0m\u001b[1;33m\u001b[0m\u001b[0m\n\u001b[0m\u001b[0;32m      2\u001b[0m \u001b[1;33m\u001b[0m\u001b[0m\n\u001b[0;32m      3\u001b[0m \u001b[0mprint\u001b[0m\u001b[1;33m(\u001b[0m\u001b[0mhistory\u001b[0m\u001b[1;33m.\u001b[0m\u001b[0mhistory\u001b[0m\u001b[1;33m.\u001b[0m\u001b[0mkeys\u001b[0m\u001b[1;33m(\u001b[0m\u001b[1;33m)\u001b[0m\u001b[1;33m)\u001b[0m\u001b[1;33m\u001b[0m\u001b[1;33m\u001b[0m\u001b[0m\n\u001b[0;32m      4\u001b[0m \u001b[1;33m\u001b[0m\u001b[0m\n\u001b[0;32m      5\u001b[0m \u001b[0mplt\u001b[0m\u001b[1;33m.\u001b[0m\u001b[0mfigure\u001b[0m\u001b[1;33m(\u001b[0m\u001b[1;36m1\u001b[0m\u001b[1;33m,\u001b[0m \u001b[0mfigsize\u001b[0m\u001b[1;33m=\u001b[0m\u001b[1;33m(\u001b[0m\u001b[1;36m18\u001b[0m\u001b[1;33m,\u001b[0m \u001b[1;36m18\u001b[0m\u001b[1;33m)\u001b[0m\u001b[1;33m)\u001b[0m\u001b[1;33m\u001b[0m\u001b[1;33m\u001b[0m\u001b[0m\n",
      "\u001b[1;31mModuleNotFoundError\u001b[0m: No module named 'matplotlib'"
     ]
    }
   ],
   "source": [
    "import matplotlib.pyplot as plt \n",
    "    \n",
    "print(history.history.keys())  \n",
    "   \n",
    "plt.figure(1, figsize=(18, 18))  \n",
    "   \n",
    "# summarize history for accuracy  \n",
    "   \n",
    "plt.subplot(211)  \n",
    "# plt.plot(history.history['policy_acc'])  \n",
    "plt.plot(history.history['val_policy_acc'])  \n",
    "# plt.plot(history.history['value_acc'])  \n",
    "plt.plot(history.history['val_value_acc'])  \n",
    "plt.title('model accuracy')  \n",
    "plt.ylabel('accuracy')  \n",
    "plt.xlabel('epoch')  \n",
    "# plt.legend(['policy_categorical_accuracy', 'val_policy_categorical_accuracy', 'value_categorical_accuracy', 'val_value_categorical_accuracy'], loc='upper left')  \n",
    "plt.legend(['Validation Policy Accuracy','Validation Value Accuracy'], loc='upper left')  \n",
    "   \n",
    "# summarize history for loss  \n",
    "   \n",
    "plt.subplot(212)  \n",
    "# plt.plot(history.history['policy_loss'])  \n",
    "plt.plot(history.history['val_policy_loss'])  \n",
    "# plt.plot(history.history['value_loss'])  \n",
    "plt.plot(history.history['val_value_loss'])  \n",
    "# plt.plot(history.history['loss'])  \n",
    "plt.plot(history.history['val_loss'])  \n",
    "plt.title('model loss')  \n",
    "plt.ylabel('loss')  \n",
    "plt.xlabel('epoch')  \n",
    "# plt.legend(['policy_loss', 'val_policy_loss', 'value_loss','val_value_loss','loss','val_loss',], loc='upper left')  \n",
    "plt.legend(['val_policy_loss','val_value_loss','val_loss'], loc='upper left')  \n",
    "\n",
    "plt.show()  "
   ]
  },
  {
   "cell_type": "code",
   "execution_count": null,
   "metadata": {},
   "outputs": [],
   "source": [
    "model.save(\"gz_dev.model\")"
   ]
  }
 ],
 "metadata": {
  "kernelspec": {
   "display_name": "Python 3",
   "language": "python",
   "name": "python3"
  },
  "language_info": {
   "codemirror_mode": {
    "name": "ipython",
    "version": 3
   },
   "file_extension": ".py",
   "mimetype": "text/x-python",
   "name": "python",
   "nbconvert_exporter": "python",
   "pygments_lexer": "ipython3",
   "version": "3.7.3"
  }
 },
 "nbformat": 4,
 "nbformat_minor": 2
}
